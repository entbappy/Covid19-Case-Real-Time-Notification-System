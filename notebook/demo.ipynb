{
 "cells": [
  {
   "cell_type": "code",
   "execution_count": 1,
   "metadata": {},
   "outputs": [],
   "source": [
    "from plyer import notification  #For getting notification\n",
    "import requests\n",
    "import time\n",
    "\n",
    "from bs4 import BeautifulSoup  #To pull the data in a different manner"
   ]
  },
  {
   "cell_type": "markdown",
   "metadata": {},
   "source": [
    "### This function will give me the notification"
   ]
  },
  {
   "cell_type": "code",
   "execution_count": null,
   "metadata": {},
   "outputs": [],
   "source": [
    "def notifyMe(title,message):\n",
    "    notification.notify(\n",
    "        title = title,\n",
    "        message = message,\n",
    "        app_icon = 'H:\\Parsonal\\Practice\\Mega Projects\\COVID Notification system\\corona.ico',\n",
    "        timeout = 5\n",
    "    )\n"
   ]
  },
  {
   "cell_type": "markdown",
   "metadata": {},
   "source": [
    "### This function will return covid data"
   ]
  },
  {
   "cell_type": "code",
   "execution_count": 2,
   "metadata": {},
   "outputs": [],
   "source": [
    "def getData(url):\n",
    "    r= requests.get(url)\n",
    "    return r.text"
   ]
  },
  {
   "cell_type": "code",
   "execution_count": null,
   "metadata": {},
   "outputs": [],
   "source": [
    "if __name__ == \"__main__\":\n",
    "    while True:\n",
    "        # notifyMe(\"Hey Bappy\",\"Lets stop spreading of the virus togethoer\")\n",
    "        myHtmlData = getData(\"https://en.wikipedia.org/wiki/Template:COVID-19_pandemic_data/Bangladesh_medical_cases_by_division\")\n",
    "        # myHtmlData = getData(\"https://www.mohfw.gov.in/\")\n",
    "        soup = BeautifulSoup( myHtmlData, 'html.parser')\n",
    "        # print(soup)\n",
    "        mystr = \"\"\n",
    "        for tr in soup.find_all('tbody')[0].find_all('tr'):\n",
    "            mystr += tr.get_text()\n",
    "        itemlist= mystr.split('\\n\\n')\n",
    "        \n",
    "        lis = []\n",
    "        for item in itemlist[106:108]:\n",
    "            new = item\n",
    "            lis.append(new)\n",
    "        print(lis)\n",
    "        nTittle = \"Case of COVID-19\"\n",
    "        nText = f\"{lis[0]}: {lis[1]}\"\n",
    "        \n",
    "        notifyMe(nTittle,nText)\n",
    "        time.sleep(20)\n"
   ]
  }
 ],
 "metadata": {
  "kernelspec": {
   "display_name": "Python 3 (ipykernel)",
   "language": "python",
   "name": "python3"
  },
  "language_info": {
   "codemirror_mode": {
    "name": "ipython",
    "version": 3
   },
   "file_extension": ".py",
   "mimetype": "text/x-python",
   "name": "python",
   "nbconvert_exporter": "python",
   "pygments_lexer": "ipython3",
   "version": "3.7.13"
  },
  "vscode": {
   "interpreter": {
    "hash": "7a29293c9d4d8b93126739266382f07a312940ff8d40640417510f0b045f4058"
   }
  }
 },
 "nbformat": 4,
 "nbformat_minor": 2
}
